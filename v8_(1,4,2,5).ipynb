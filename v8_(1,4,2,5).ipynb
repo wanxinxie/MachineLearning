{
  "nbformat": 4,
  "nbformat_minor": 0,
  "metadata": {
    "colab": {
      "name": "v8 (1,4,2,5).ipynb",
      "provenance": [],
      "collapsed_sections": []
    },
    "kernelspec": {
      "name": "python3",
      "display_name": "Python 3"
    },
    "accelerator": "GPU"
  },
  "cells": [
    {
      "cell_type": "code",
      "metadata": {
        "id": "kL_NqxIpe0nM",
        "colab_type": "code",
        "colab": {}
      },
      "source": [
        "import pandas as pd\n",
        "import numpy as np \n",
        "\n",
        "from sklearn.model_selection import train_test_split\n",
        "import torch\n",
        "from torch.utils.data import Dataset, DataLoader\n",
        "from torch.autograd import Variable\n",
        "import torch.nn.functional as F\n",
        "import numpy as np\n",
        "import matplotlib.pyplot as plt\n",
        "import sklearn\n",
        "import statistics \n",
        "from tqdm import tqdm"
      ],
      "execution_count": null,
      "outputs": []
    },
    {
      "cell_type": "code",
      "metadata": {
        "id": "cBhr8glGi2ZG",
        "colab_type": "code",
        "colab": {}
      },
      "source": [
        "fold1 = pd.read_excel('fold_1.xlsx')\n",
        "fold2 = pd.read_excel('fold_2.xlsx')\n",
        "fold3 = pd.read_excel('fold_3.xlsx')\n",
        "fold4 = pd.read_excel('fold_4.xlsx')\n",
        "fold5 = pd.read_excel('fold_5.xlsx')"
      ],
      "execution_count": null,
      "outputs": []
    },
    {
      "cell_type": "code",
      "metadata": {
        "id": "BXbIUxvYjGDc",
        "colab_type": "code",
        "colab": {}
      },
      "source": [
        "traindf = pd.concat([fold5, fold1,fold4,fold2], axis=0, sort=False)\n",
        "testdf = fold3"
      ],
      "execution_count": null,
      "outputs": []
    },
    {
      "cell_type": "code",
      "metadata": {
        "id": "VuTA2JPZoj_7",
        "colab_type": "code",
        "colab": {}
      },
      "source": [
        "X_train = np.array(traindf.iloc[:,3:57])\n",
        "y_train = np.array(traindf.iloc[:,57]).reshape(-1)"
      ],
      "execution_count": null,
      "outputs": []
    },
    {
      "cell_type": "code",
      "metadata": {
        "id": "zBpXxEQYdl1V",
        "colab_type": "code",
        "colab": {}
      },
      "source": [
        "X_train = torch.tensor(X_train, device=\"cuda\").type(torch.float)\n",
        "y_train = torch.tensor(y_train, device=\"cuda\").type(torch.float)"
      ],
      "execution_count": null,
      "outputs": []
    },
    {
      "cell_type": "code",
      "metadata": {
        "id": "6IMjogYZaqAd",
        "colab_type": "code",
        "colab": {
          "base_uri": "https://localhost:8080/",
          "height": 35
        },
        "outputId": "a34fe506-6cc7-491a-b2a9-0a64cac279f6"
      },
      "source": [
        "X_mean = X_train.mean(dim=0)\n",
        "X_std = X_train.std(dim=0)\n",
        "y_mean = y_train.mean(dim=0)\n",
        "y_std = y_train.std(dim=0)\n",
        "X_mean.shape, X_std.shape, y_mean.shape, y_std.shape"
      ],
      "execution_count": null,
      "outputs": [
        {
          "output_type": "execute_result",
          "data": {
            "text/plain": [
              "(torch.Size([54]), torch.Size([54]), torch.Size([]), torch.Size([]))"
            ]
          },
          "metadata": {
            "tags": []
          },
          "execution_count": 6
        }
      ]
    },
    {
      "cell_type": "code",
      "metadata": {
        "id": "d8GKSX_Ec8cq",
        "colab_type": "code",
        "colab": {}
      },
      "source": [
        "class CustomDataset(Dataset):\n",
        "    def __init__(self, X, y, transform=None, target_transform=None):\n",
        "        super().__init__()\n",
        "        self.X = X\n",
        "        self.y = y\n",
        "        self.transform = transform\n",
        "        self.target_transform = target_transform\n",
        "\n",
        "    def __len__(self):\n",
        "        return self.X.shape[0]\n",
        "\n",
        "    def __getitem__(self, idx):\n",
        "        X = self.X[idx]\n",
        "        y = self.y[idx]\n",
        "\n",
        "        if self.transform:\n",
        "            X = self.transform(X)\n",
        "\n",
        "        if self.target_transform is not None:\n",
        "            y = self.target_transform(y)\n",
        "        return X, y"
      ],
      "execution_count": null,
      "outputs": []
    },
    {
      "cell_type": "code",
      "metadata": {
        "id": "9fRenpwJeIvM",
        "colab_type": "code",
        "colab": {}
      },
      "source": [
        "training_set = CustomDataset(X_train, \n",
        "                             y_train, \n",
        "                             transform=lambda X: ((X - X_mean)/X_std), \n",
        "                             target_transform=lambda y: ((y - y_mean)/y_std)\n",
        "                          )\n",
        "\n"
      ],
      "execution_count": null,
      "outputs": []
    },
    {
      "cell_type": "code",
      "metadata": {
        "id": "WZMxjBpGhlYf",
        "colab_type": "code",
        "colab": {
          "base_uri": "https://localhost:8080/",
          "height": 1000
        },
        "outputId": "ae120ea8-69c3-4abc-9b32-d643ba9cbfb0"
      },
      "source": [
        "net = torch.nn.Sequential(\n",
        "    torch.nn.Linear(54, 256),\n",
        "    torch.nn.BatchNorm1d(256),\n",
        "    torch.nn.ReLU(),\n",
        "    torch.nn.Dropout(p=0.1),\n",
        "    torch.nn.Linear(256, 512),\n",
        "    torch.nn.BatchNorm1d(512),\n",
        "    torch.nn.ReLU(),  \n",
        "    torch.nn.Dropout(p=0.1),   \n",
        "    torch.nn.Linear(512, 256),\n",
        "    torch.nn.BatchNorm1d(256),\n",
        "    torch.nn.ReLU(),  \n",
        "    torch.nn.Dropout(p=0.1),\n",
        "    torch.nn.Linear(256, 128),\n",
        "    torch.nn.BatchNorm1d(128),\n",
        "    torch.nn.ReLU(),  \n",
        "    torch.nn.Dropout(p=0.1),\n",
        "    torch.nn.Linear(128, 64),\n",
        "    torch.nn.BatchNorm1d(64),\n",
        "    torch.nn.ReLU(),  \n",
        "    torch.nn.Dropout(p=0.1),\n",
        "    torch.nn.Linear(64, 1))\n",
        "\n",
        "batch_size = 128\n",
        "epoch_total = 100\n",
        "\n",
        "\n",
        "def lr_lambda(epoch):\n",
        " \n",
        "    lr=0.01    \n",
        "    return lr\n",
        "\n",
        "optimizer = torch.optim.Adam([param for param in net.parameters() if param.requires_grad], lr=0.01, weight_decay=0.0005)\n",
        "lr_scheduler = torch.optim.lr_scheduler.LambdaLR(optimizer, lr_lambda)\n",
        "\n",
        "loss_func = torch.nn.MSELoss(reduction=\"none\") \n",
        "\n",
        "train_loader = DataLoader(\n",
        "    dataset=training_set,\n",
        "    batch_size=batch_size, \n",
        "    shuffle=True)\n",
        "\n",
        "\n",
        "\n",
        "net = net.cuda()\n",
        "\n",
        "train_losses = []\n",
        "train_r2 = []\n",
        "# start training\n",
        "\n",
        "for epoch in range(epoch_total):\n",
        "    # print('Epoch = %d' % epoch + 1)\n",
        "    net.train()\n",
        "    train_targets = []\n",
        "    train_predictions = []\n",
        "    total_loss = None\n",
        "    for step, (batch_X, batch_y) in enumerate(train_loader): # for each training step\n",
        "        optimizer.zero_grad()   # clear gradients for next train\n",
        "        prediction = net(batch_X).squeeze(dim=1) \n",
        "          # input x and predict based on x\n",
        "        loss = loss_func(prediction, batch_y)     # must be (1. nn output, 2. target)\n",
        "        current_loss = loss.sum()\n",
        "\n",
        "        if total_loss is None:\n",
        "            total_loss = current_loss\n",
        "        else:\n",
        "            total_loss += current_loss\n",
        "        \n",
        "        loss = loss.mean()\n",
        "        loss.backward()         # backpropagation, compute gradients\n",
        "        optimizer.step()        # apply gradients\n",
        "        train_targets += [batch_y]\n",
        "        train_predictions += [prediction]\n",
        "    \n",
        "    with torch.no_grad():\n",
        "        train_targets = torch.cat(train_targets, dim=0)\n",
        "        train_predictions = torch.cat(train_predictions, dim=0)\n",
        "        total_loss = total_loss / train_targets.shape[0]\n",
        "        train_losses += [total_loss.item()]\n",
        "        train_r2.append(sklearn.metrics.r2_score((train_targets * y_std + y_mean).cpu().numpy(), (train_predictions * y_std + y_mean).cpu().numpy()))\n",
        "        print('Epoch %d: Training Loss = %.4f' % (epoch + 1, total_loss.item()))\n",
        "\n",
        "\n",
        "    lr_scheduler.step()\n"
      ],
      "execution_count": null,
      "outputs": [
        {
          "output_type": "stream",
          "text": [
            "Epoch 1: Training Loss = 0.3494\n",
            "Epoch 2: Training Loss = 0.1990\n",
            "Epoch 3: Training Loss = 0.1675\n",
            "Epoch 4: Training Loss = 0.1519\n",
            "Epoch 5: Training Loss = 0.1350\n",
            "Epoch 6: Training Loss = 0.1308\n",
            "Epoch 7: Training Loss = 0.1254\n",
            "Epoch 8: Training Loss = 0.1222\n",
            "Epoch 9: Training Loss = 0.1153\n",
            "Epoch 10: Training Loss = 0.1095\n",
            "Epoch 11: Training Loss = 0.1091\n",
            "Epoch 12: Training Loss = 0.1029\n",
            "Epoch 13: Training Loss = 0.1013\n",
            "Epoch 14: Training Loss = 0.0986\n",
            "Epoch 15: Training Loss = 0.0961\n",
            "Epoch 16: Training Loss = 0.0961\n",
            "Epoch 17: Training Loss = 0.0935\n",
            "Epoch 18: Training Loss = 0.0917\n",
            "Epoch 19: Training Loss = 0.0905\n",
            "Epoch 20: Training Loss = 0.0886\n",
            "Epoch 21: Training Loss = 0.0880\n",
            "Epoch 22: Training Loss = 0.0851\n",
            "Epoch 23: Training Loss = 0.0853\n",
            "Epoch 24: Training Loss = 0.0843\n",
            "Epoch 25: Training Loss = 0.0823\n",
            "Epoch 26: Training Loss = 0.0814\n",
            "Epoch 27: Training Loss = 0.0805\n",
            "Epoch 28: Training Loss = 0.0815\n",
            "Epoch 29: Training Loss = 0.0808\n",
            "Epoch 30: Training Loss = 0.0793\n",
            "Epoch 31: Training Loss = 0.0771\n",
            "Epoch 32: Training Loss = 0.0765\n",
            "Epoch 33: Training Loss = 0.0768\n",
            "Epoch 34: Training Loss = 0.0759\n",
            "Epoch 35: Training Loss = 0.0735\n",
            "Epoch 36: Training Loss = 0.0736\n",
            "Epoch 37: Training Loss = 0.0736\n",
            "Epoch 38: Training Loss = 0.0735\n",
            "Epoch 39: Training Loss = 0.0723\n",
            "Epoch 40: Training Loss = 0.0721\n",
            "Epoch 41: Training Loss = 0.0714\n",
            "Epoch 42: Training Loss = 0.0707\n",
            "Epoch 43: Training Loss = 0.0708\n",
            "Epoch 44: Training Loss = 0.0704\n",
            "Epoch 45: Training Loss = 0.0698\n",
            "Epoch 46: Training Loss = 0.0702\n",
            "Epoch 47: Training Loss = 0.0677\n",
            "Epoch 48: Training Loss = 0.0686\n",
            "Epoch 49: Training Loss = 0.0671\n",
            "Epoch 50: Training Loss = 0.0688\n",
            "Epoch 51: Training Loss = 0.0677\n",
            "Epoch 52: Training Loss = 0.0661\n",
            "Epoch 53: Training Loss = 0.0684\n",
            "Epoch 54: Training Loss = 0.0652\n",
            "Epoch 55: Training Loss = 0.0662\n",
            "Epoch 56: Training Loss = 0.0650\n",
            "Epoch 57: Training Loss = 0.0657\n",
            "Epoch 58: Training Loss = 0.0630\n",
            "Epoch 59: Training Loss = 0.0645\n",
            "Epoch 60: Training Loss = 0.0634\n",
            "Epoch 61: Training Loss = 0.0639\n",
            "Epoch 62: Training Loss = 0.0644\n",
            "Epoch 63: Training Loss = 0.0646\n",
            "Epoch 64: Training Loss = 0.0636\n",
            "Epoch 65: Training Loss = 0.0613\n",
            "Epoch 66: Training Loss = 0.0611\n",
            "Epoch 67: Training Loss = 0.0639\n",
            "Epoch 68: Training Loss = 0.0624\n",
            "Epoch 69: Training Loss = 0.0614\n",
            "Epoch 70: Training Loss = 0.0598\n",
            "Epoch 71: Training Loss = 0.0598\n",
            "Epoch 72: Training Loss = 0.0585\n",
            "Epoch 73: Training Loss = 0.0598\n",
            "Epoch 74: Training Loss = 0.0585\n",
            "Epoch 75: Training Loss = 0.0600\n",
            "Epoch 76: Training Loss = 0.0583\n",
            "Epoch 77: Training Loss = 0.0587\n",
            "Epoch 78: Training Loss = 0.0587\n",
            "Epoch 79: Training Loss = 0.0594\n",
            "Epoch 80: Training Loss = 0.0573\n",
            "Epoch 81: Training Loss = 0.0576\n",
            "Epoch 82: Training Loss = 0.0570\n",
            "Epoch 83: Training Loss = 0.0568\n",
            "Epoch 84: Training Loss = 0.0579\n",
            "Epoch 85: Training Loss = 0.0566\n",
            "Epoch 86: Training Loss = 0.0574\n",
            "Epoch 87: Training Loss = 0.0575\n",
            "Epoch 88: Training Loss = 0.0568\n",
            "Epoch 89: Training Loss = 0.0558\n",
            "Epoch 90: Training Loss = 0.0571\n",
            "Epoch 91: Training Loss = 0.0550\n",
            "Epoch 92: Training Loss = 0.0564\n",
            "Epoch 93: Training Loss = 0.0550\n",
            "Epoch 94: Training Loss = 0.0561\n",
            "Epoch 95: Training Loss = 0.0558\n",
            "Epoch 96: Training Loss = 0.0544\n",
            "Epoch 97: Training Loss = 0.0556\n",
            "Epoch 98: Training Loss = 0.0548\n",
            "Epoch 99: Training Loss = 0.0546\n",
            "Epoch 100: Training Loss = 0.0541\n"
          ],
          "name": "stdout"
        }
      ]
    },
    {
      "cell_type": "code",
      "metadata": {
        "id": "N5vwXfkxrdMf",
        "colab_type": "code",
        "colab": {}
      },
      "source": [
        "X_test = np.array(testdf.iloc[:,3:57])\n",
        "y_test = np.array(testdf.iloc[:,57]).reshape(-1)"
      ],
      "execution_count": null,
      "outputs": []
    },
    {
      "cell_type": "code",
      "metadata": {
        "id": "v1M8wVaiwn1R",
        "colab_type": "code",
        "colab": {}
      },
      "source": [
        "X_test = torch.tensor(X_test, device=\"cuda\").type(torch.float)\n",
        "y_test = torch.tensor(y_test, device=\"cuda\").type(torch.float)"
      ],
      "execution_count": null,
      "outputs": []
    },
    {
      "cell_type": "code",
      "metadata": {
        "id": "VRz3aY4cdzbE",
        "colab_type": "code",
        "colab": {}
      },
      "source": [
        "test_set = CustomDataset(X_test,\n",
        "                        y_test,\n",
        "                        transform=lambda X: ((X - X_mean)/X_std), \n",
        "                        target_transform=lambda y: ((y - y_mean)/y_std)\n",
        "                    )"
      ],
      "execution_count": null,
      "outputs": []
    },
    {
      "cell_type": "code",
      "metadata": {
        "id": "QxVSPIA9uP5v",
        "colab_type": "code",
        "colab": {}
      },
      "source": [
        "test_r2=[]\n",
        "test_losses=[]"
      ],
      "execution_count": null,
      "outputs": []
    },
    {
      "cell_type": "code",
      "metadata": {
        "id": "y3tYl53ecZlN",
        "colab_type": "code",
        "colab": {
          "base_uri": "https://localhost:8080/",
          "height": 35
        },
        "outputId": "c06569d3-1e34-496e-af46-a7d5a20efcee"
      },
      "source": [
        "test_loader = DataLoader(\n",
        "    dataset=test_set,\n",
        "    batch_size=batch_size, \n",
        "    shuffle=False)\n",
        "\n",
        "with torch.no_grad():\n",
        "    net.eval()\n",
        "    test_targets = []\n",
        "    test_predictions = []\n",
        "    total_loss = None\n",
        "    for (batch_X, batch_y) in test_loader: # for each training step\n",
        "        prediction = net(batch_X).squeeze(dim=1)     # input x and predict based on x\n",
        "        current_loss = loss_func(prediction, batch_y).sum()\n",
        "        if total_loss is None:\n",
        "            total_loss = current_loss\n",
        "        else:\n",
        "            total_loss += current_loss\n",
        "        test_targets += [batch_y]\n",
        "        test_predictions += [prediction]\n",
        "    test_targets = torch.cat(test_targets, dim=0)\n",
        "    test_predictions = torch.cat(test_predictions, dim=0)\n",
        "    test_r2.append(sklearn.metrics.r2_score((test_targets * y_std + y_mean).cpu().numpy(), (test_predictions * y_std + y_mean).cpu().numpy()))\n",
        "    \n",
        "    total_loss = total_loss / test_targets.shape[0]\n",
        "    test_losses.append(total_loss.item())\n",
        "    print(\"Epoch %d: Validation Loss = %.4f\" % (epoch + 1, total_loss.item()))"
      ],
      "execution_count": null,
      "outputs": [
        {
          "output_type": "stream",
          "text": [
            "Epoch 100: Validation Loss = 0.0561\n"
          ],
          "name": "stdout"
        }
      ]
    },
    {
      "cell_type": "code",
      "metadata": {
        "id": "BoA91qppyHVz",
        "colab_type": "code",
        "colab": {
          "base_uri": "https://localhost:8080/",
          "height": 35
        },
        "outputId": "fe24bcc1-6fd5-42ed-a0b2-6942af5f9567"
      },
      "source": [
        "test_r2"
      ],
      "execution_count": null,
      "outputs": [
        {
          "output_type": "execute_result",
          "data": {
            "text/plain": [
              "[0.9375078053979368]"
            ]
          },
          "metadata": {
            "tags": []
          },
          "execution_count": 15
        }
      ]
    },
    {
      "cell_type": "code",
      "metadata": {
        "id": "xro-YwqY2tmy",
        "colab_type": "code",
        "colab": {
          "base_uri": "https://localhost:8080/",
          "height": 35
        },
        "outputId": "dd0312d0-4d34-4984-8556-e35245425915"
      },
      "source": [
        "train_r2[len(train_r2)-1]"
      ],
      "execution_count": null,
      "outputs": [
        {
          "output_type": "execute_result",
          "data": {
            "text/plain": [
              "0.9458641944280192"
            ]
          },
          "metadata": {
            "tags": []
          },
          "execution_count": 16
        }
      ]
    },
    {
      "cell_type": "code",
      "metadata": {
        "id": "cSQpp3myNqGY",
        "colab_type": "code",
        "colab": {
          "base_uri": "https://localhost:8080/",
          "height": 541
        },
        "outputId": "a69e4c59-5d36-4674-bb14-90adb4734182"
      },
      "source": [
        "plt.plot(train_r2, label=\"Training R2 Score\")\n",
        "plt.ylabel('R2 Score')\n",
        "plt.xlabel('Epochs')\n",
        "plt.legend()\n",
        "plt.show()\n",
        "\n",
        "plt.plot(train_losses, label=\"Training Loss\")\n",
        "plt.ylabel('Loss')\n",
        "plt.xlabel('Epochs')\n",
        "plt.legend()\n",
        "plt.show()"
      ],
      "execution_count": null,
      "outputs": [
        {
          "output_type": "display_data",
          "data": {
            "image/png": "[encoded data removed]",
            "text/plain": [
              "<Figure size 432x288 with 1 Axes>"
            ]
          },
          "metadata": {
            "tags": [],
            "needs_background": "light"
          }
        },
        {
          "output_type": "display_data",
          "data": {
            "image/png": "[encoded data removed]",
            "text/plain": [
              "<Figure size 432x288 with 1 Axes>"
            ]
          },
          "metadata": {
            "tags": [],
            "needs_background": "light"
          }
        }
      ]
    },
    {
      "cell_type": "code",
      "metadata": {
        "id": "e-vd8PA-N4Oi",
        "colab_type": "code",
        "colab": {
          "base_uri": "https://localhost:8080/",
          "height": 297
        },
        "outputId": "04ed7ed1-dded-49d8-fa58-acb6a275bb88"
      },
      "source": [
        "plt.plot((test_targets * y_std + y_mean).cpu().numpy(), (test_predictions * y_std + y_mean).cpu().numpy(),'bo')\n",
        "plt.plot([-3,13],[-3,13],'red')\n",
        "plt.ylabel('prediction')\n",
        "plt.xlabel('target')\n",
        "plt.xlim(-3, 15)\n",
        "plt.ylim(-3, 15)\n"
      ],
      "execution_count": null,
      "outputs": [
        {
          "output_type": "execute_result",
          "data": {
            "text/plain": [
              "(-3.0, 15.0)"
            ]
          },
          "metadata": {
            "tags": []
          },
          "execution_count": 18
        },
        {
          "output_type": "display_data",
          "data": {
            "image/png": "[encoded data removed]",
            "text/plain": [
              "<Figure size 432x288 with 1 Axes>"
            ]
          },
          "metadata": {
            "tags": [],
            "needs_background": "light"
          }
        }
      ]
    },
    {
      "cell_type": "code",
      "metadata": {
        "id": "CRIUE21_N5Rc",
        "colab_type": "code",
        "colab": {
          "base_uri": "https://localhost:8080/",
          "height": 297
        },
        "outputId": "f50ce823-66fb-4023-cd13-023092a1333b"
      },
      "source": [
        "plt.plot((train_targets * y_std + y_mean).cpu().numpy(), (train_predictions * y_std + y_mean).cpu().numpy(),'bo')\n",
        "plt.plot([-3,13],[-3,13],'red')\n",
        "plt.ylabel('prediction')\n",
        "plt.xlabel('target')\n",
        "plt.xlim(-3, 15)\n",
        "plt.ylim(-3, 15)\n"
      ],
      "execution_count": null,
      "outputs": [
        {
          "output_type": "execute_result",
          "data": {
            "text/plain": [
              "(-3.0, 15.0)"
            ]
          },
          "metadata": {
            "tags": []
          },
          "execution_count": 19
        },
        {
          "output_type": "display_data",
          "data": {
            "image/png": "[encoded data removed]",
            "text/plain": [
              "<Figure size 432x288 with 1 Axes>"
            ]
          },
          "metadata": {
            "tags": [],
            "needs_background": "light"
          }
        }
      ]
    },
    {
      "cell_type": "code",
      "metadata": {
        "id": "Ev0Gf2E1nb5c",
        "colab_type": "code",
        "colab": {
          "base_uri": "https://localhost:8080/",
          "height": 17
        },
        "outputId": "fb8d5635-589f-463e-cc00-16c95dc99552"
      },
      "source": [
        "diff = (((test_targets * y_std + y_mean).cpu().numpy()) - ((test_predictions * y_std + y_mean).cpu().numpy()))\n",
        "diff = abs(diff)\n",
        "outliers = list(np.array(np.where((abs(diff) - np.mean(diff))/np.std(diff) >2 )).reshape(-1))\n",
        "outlierdf = testdf.iloc[outliers,]\n",
        "outlierdf.to_excel('outlierdf3.xlsx')\n",
        "from google.colab import files\n",
        "files.download('outlierdf3.xlsx') "
      ],
      "execution_count": null,
      "outputs": [
        {
          "output_type": "display_data",
          "data": {
            "application/javascript": [
              "\n",
              "    async function download(id, filename, size) {\n",
              "      if (!google.colab.kernel.accessAllowed) {\n",
              "        return;\n",
              "      }\n",
              "      const div = document.createElement('div');\n",
              "      const label = document.createElement('label');\n",
              "      label.textContent = `Downloading \"${filename}\": `;\n",
              "      div.appendChild(label);\n",
              "      const progress = document.createElement('progress');\n",
              "      progress.max = size;\n",
              "      div.appendChild(progress);\n",
              "      document.body.appendChild(div);\n",
              "\n",
              "      const buffers = [];\n",
              "      let downloaded = 0;\n",
              "\n",
              "      const channel = await google.colab.kernel.comms.open(id);\n",
              "      // Send a message to notify the kernel that we're ready.\n",
              "      channel.send({})\n",
              "\n",
              "      for await (const message of channel.messages) {\n",
              "        // Send a message to notify the kernel that we're ready.\n",
              "        channel.send({})\n",
              "        if (message.buffers) {\n",
              "          for (const buffer of message.buffers) {\n",
              "            buffers.push(buffer);\n",
              "            downloaded += buffer.byteLength;\n",
              "            progress.value = downloaded;\n",
              "          }\n",
              "        }\n",
              "      }\n",
              "      const blob = new Blob(buffers, {type: 'application/binary'});\n",
              "      const a = document.createElement('a');\n",
              "      a.href = window.URL.createObjectURL(blob);\n",
              "      a.download = filename;\n",
              "      div.appendChild(a);\n",
              "      a.click();\n",
              "      div.remove();\n",
              "    }\n",
              "  "
            ],
            "text/plain": [
              "<IPython.core.display.Javascript object>"
            ]
          },
          "metadata": {
            "tags": []
          }
        },
        {
          "output_type": "display_data",
          "data": {
            "application/javascript": [
              "download(\"download_74af27d1-c6c8-4b08-8c4f-7edad0253ab8\", \"outlierdf3.xlsx\", 137059)"
            ],
            "text/plain": [
              "<IPython.core.display.Javascript object>"
            ]
          },
          "metadata": {
            "tags": []
          }
        }
      ]
    },
    {
      "cell_type": "code",
      "metadata": {
        "id": "Wc6cEBLDLt9S",
        "colab_type": "code",
        "colab": {}
      },
      "source": [
        ""
      ],
      "execution_count": null,
      "outputs": []
    }
  ]
}
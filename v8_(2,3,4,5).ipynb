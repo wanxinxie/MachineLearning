{
  "nbformat": 4,
  "nbformat_minor": 0,
  "metadata": {
    "colab": {
      "name": "v8 (2,3,4,5).ipynb",
      "provenance": [],
      "collapsed_sections": []
    },
    "kernelspec": {
      "name": "python3",
      "display_name": "Python 3"
    },
    "accelerator": "GPU"
  },
  "cells": [
    {
      "cell_type": "code",
      "metadata": {
        "id": "kL_NqxIpe0nM",
        "colab_type": "code",
        "colab": {}
      },
      "source": [
        "import pandas as pd\n",
        "import numpy as np \n",
        "\n",
        "from sklearn.model_selection import train_test_split\n",
        "import torch\n",
        "from torch.utils.data import Dataset, DataLoader\n",
        "from torch.autograd import Variable\n",
        "import torch.nn.functional as F\n",
        "import numpy as np\n",
        "import matplotlib.pyplot as plt\n",
        "import sklearn\n",
        "import statistics \n",
        "from tqdm import tqdm"
      ],
      "execution_count": null,
      "outputs": []
    },
    {
      "cell_type": "code",
      "metadata": {
        "id": "cBhr8glGi2ZG",
        "colab_type": "code",
        "colab": {}
      },
      "source": [
        "fold1 = pd.read_excel('fold_1.xlsx')\n",
        "fold2 = pd.read_excel('fold_2.xlsx')\n",
        "fold3 = pd.read_excel('fold_3.xlsx')\n",
        "fold4 = pd.read_excel('fold_4.xlsx')\n",
        "fold5 = pd.read_excel('fold_5.xlsx')"
      ],
      "execution_count": null,
      "outputs": []
    },
    {
      "cell_type": "code",
      "metadata": {
        "id": "BXbIUxvYjGDc",
        "colab_type": "code",
        "colab": {}
      },
      "source": [
        "traindf = pd.concat([fold5, fold2,fold3,fold4], axis=0, sort=False)\n",
        "testdf = fold1"
      ],
      "execution_count": null,
      "outputs": []
    },
    {
      "cell_type": "code",
      "metadata": {
        "id": "VuTA2JPZoj_7",
        "colab_type": "code",
        "colab": {}
      },
      "source": [
        "X_train = np.array(traindf.iloc[:,3:57])\n",
        "y_train = np.array(traindf.iloc[:,57]).reshape(-1)"
      ],
      "execution_count": null,
      "outputs": []
    },
    {
      "cell_type": "code",
      "metadata": {
        "id": "zBpXxEQYdl1V",
        "colab_type": "code",
        "colab": {}
      },
      "source": [
        "X_train = torch.tensor(X_train, device=\"cuda\").type(torch.float)\n",
        "y_train = torch.tensor(y_train, device=\"cuda\").type(torch.float)"
      ],
      "execution_count": null,
      "outputs": []
    },
    {
      "cell_type": "code",
      "metadata": {
        "id": "6IMjogYZaqAd",
        "colab_type": "code",
        "colab": {
          "base_uri": "https://localhost:8080/",
          "height": 34
        },
        "outputId": "bf1714b5-f9ed-4702-d0fa-daa6ef4197fa"
      },
      "source": [
        "X_mean = X_train.mean(dim=0)\n",
        "X_std = X_train.std(dim=0)\n",
        "y_mean = y_train.mean(dim=0)\n",
        "y_std = y_train.std(dim=0)\n",
        "X_mean.shape, X_std.shape, y_mean.shape, y_std.shape"
      ],
      "execution_count": null,
      "outputs": [
        {
          "output_type": "execute_result",
          "data": {
            "text/plain": [
              "(torch.Size([54]), torch.Size([54]), torch.Size([]), torch.Size([]))"
            ]
          },
          "metadata": {
            "tags": []
          },
          "execution_count": 6
        }
      ]
    },
    {
      "cell_type": "code",
      "metadata": {
        "id": "d8GKSX_Ec8cq",
        "colab_type": "code",
        "colab": {}
      },
      "source": [
        "class CustomDataset(Dataset):\n",
        "    def __init__(self, X, y, transform=None, target_transform=None):\n",
        "        super().__init__()\n",
        "        self.X = X\n",
        "        self.y = y\n",
        "        self.transform = transform\n",
        "        self.target_transform = target_transform\n",
        "\n",
        "    def __len__(self):\n",
        "        return self.X.shape[0]\n",
        "\n",
        "    def __getitem__(self, idx):\n",
        "        X = self.X[idx]\n",
        "        y = self.y[idx]\n",
        "\n",
        "        if self.transform:\n",
        "            X = self.transform(X)\n",
        "\n",
        "        if self.target_transform is not None:\n",
        "            y = self.target_transform(y)\n",
        "        return X, y"
      ],
      "execution_count": null,
      "outputs": []
    },
    {
      "cell_type": "code",
      "metadata": {
        "id": "9fRenpwJeIvM",
        "colab_type": "code",
        "colab": {}
      },
      "source": [
        "training_set = CustomDataset(X_train, \n",
        "                             y_train, \n",
        "                             transform=lambda X: ((X - X_mean)/X_std), \n",
        "                             target_transform=lambda y: ((y - y_mean)/y_std)\n",
        "                          )\n",
        "\n"
      ],
      "execution_count": null,
      "outputs": []
    },
    {
      "cell_type": "code",
      "metadata": {
        "id": "WZMxjBpGhlYf",
        "colab_type": "code",
        "colab": {
          "base_uri": "https://localhost:8080/",
          "height": 1000
        },
        "outputId": "50aed7c2-64be-4b57-b5c0-e6aebee5a982"
      },
      "source": [
        "net = torch.nn.Sequential(\n",
        "    torch.nn.Linear(54, 256),\n",
        "    torch.nn.BatchNorm1d(256),\n",
        "    torch.nn.ReLU(),\n",
        "    torch.nn.Dropout(p=0.1),\n",
        "    torch.nn.Linear(256, 512),\n",
        "    torch.nn.BatchNorm1d(512),\n",
        "    torch.nn.ReLU(),  \n",
        "    torch.nn.Dropout(p=0.1),   \n",
        "    torch.nn.Linear(512, 256),\n",
        "    torch.nn.BatchNorm1d(256),\n",
        "    torch.nn.ReLU(),  \n",
        "    torch.nn.Dropout(p=0.1),\n",
        "    torch.nn.Linear(256, 128),\n",
        "    torch.nn.BatchNorm1d(128),\n",
        "    torch.nn.ReLU(),  \n",
        "    torch.nn.Dropout(p=0.1),\n",
        "    torch.nn.Linear(128, 64),\n",
        "    torch.nn.BatchNorm1d(64),\n",
        "    torch.nn.ReLU(),  \n",
        "    torch.nn.Dropout(p=0.1),\n",
        "    torch.nn.Linear(64, 1))\n",
        "\n",
        "batch_size = 128\n",
        "epoch_total = 100\n",
        "\n",
        "\n",
        "def lr_lambda(epoch):\n",
        " \n",
        "    lr=0.01    \n",
        "    return lr\n",
        "\n",
        "optimizer = torch.optim.Adam([param for param in net.parameters() if param.requires_grad], lr=0.01, weight_decay=0.0005)\n",
        "lr_scheduler = torch.optim.lr_scheduler.LambdaLR(optimizer, lr_lambda)\n",
        "\n",
        "loss_func = torch.nn.MSELoss(reduction=\"none\") \n",
        "\n",
        "train_loader = DataLoader(\n",
        "    dataset=training_set,\n",
        "    batch_size=batch_size, \n",
        "    shuffle=True)\n",
        "\n",
        "\n",
        "\n",
        "net = net.cuda()\n",
        "\n",
        "train_losses = []\n",
        "train_r2 = []\n",
        "# start training\n",
        "\n",
        "for epoch in range(epoch_total):\n",
        "    # print('Epoch = %d' % epoch + 1)\n",
        "    net.train()\n",
        "    train_targets = []\n",
        "    train_predictions = []\n",
        "    total_loss = None\n",
        "    for step, (batch_X, batch_y) in enumerate(train_loader): # for each training step\n",
        "        optimizer.zero_grad()   # clear gradients for next train\n",
        "        prediction = net(batch_X).squeeze(dim=1) \n",
        "          # input x and predict based on x\n",
        "        loss = loss_func(prediction, batch_y)     # must be (1. nn output, 2. target)\n",
        "        current_loss = loss.sum()\n",
        "\n",
        "        if total_loss is None:\n",
        "            total_loss = current_loss\n",
        "        else:\n",
        "            total_loss += current_loss\n",
        "        \n",
        "        loss = loss.mean()\n",
        "        loss.backward()         # backpropagation, compute gradients\n",
        "        optimizer.step()        # apply gradients\n",
        "        train_targets += [batch_y]\n",
        "        train_predictions += [prediction]\n",
        "    \n",
        "    with torch.no_grad():\n",
        "        train_targets = torch.cat(train_targets, dim=0)\n",
        "        train_predictions = torch.cat(train_predictions, dim=0)\n",
        "        total_loss = total_loss / train_targets.shape[0]\n",
        "        train_losses += [total_loss.item()]\n",
        "        train_r2.append(sklearn.metrics.r2_score((train_targets * y_std + y_mean).cpu().numpy(), (train_predictions * y_std + y_mean).cpu().numpy()))\n",
        "        print('Epoch %d: Training Loss = %.4f' % (epoch + 1, total_loss.item()))\n",
        "\n",
        "\n",
        "    lr_scheduler.step()\n"
      ],
      "execution_count": null,
      "outputs": [
        {
          "output_type": "stream",
          "text": [
            "Epoch 1: Training Loss = 0.3695\n",
            "Epoch 2: Training Loss = 0.2113\n",
            "Epoch 3: Training Loss = 0.1772\n",
            "Epoch 4: Training Loss = 0.1565\n",
            "Epoch 5: Training Loss = 0.1456\n",
            "Epoch 6: Training Loss = 0.1396\n",
            "Epoch 7: Training Loss = 0.1330\n",
            "Epoch 8: Training Loss = 0.1248\n",
            "Epoch 9: Training Loss = 0.1191\n",
            "Epoch 10: Training Loss = 0.1152\n",
            "Epoch 11: Training Loss = 0.1116\n",
            "Epoch 12: Training Loss = 0.1087\n",
            "Epoch 13: Training Loss = 0.1071\n",
            "Epoch 14: Training Loss = 0.1031\n",
            "Epoch 15: Training Loss = 0.1002\n",
            "Epoch 16: Training Loss = 0.1009\n",
            "Epoch 17: Training Loss = 0.0952\n",
            "Epoch 18: Training Loss = 0.0933\n",
            "Epoch 19: Training Loss = 0.0920\n",
            "Epoch 20: Training Loss = 0.0918\n",
            "Epoch 21: Training Loss = 0.0894\n",
            "Epoch 22: Training Loss = 0.0892\n",
            "Epoch 23: Training Loss = 0.0885\n",
            "Epoch 24: Training Loss = 0.0898\n",
            "Epoch 25: Training Loss = 0.0853\n",
            "Epoch 26: Training Loss = 0.0857\n",
            "Epoch 27: Training Loss = 0.0854\n",
            "Epoch 28: Training Loss = 0.0826\n",
            "Epoch 29: Training Loss = 0.0839\n",
            "Epoch 30: Training Loss = 0.0826\n",
            "Epoch 31: Training Loss = 0.0821\n",
            "Epoch 32: Training Loss = 0.0802\n",
            "Epoch 33: Training Loss = 0.0804\n",
            "Epoch 34: Training Loss = 0.0795\n",
            "Epoch 35: Training Loss = 0.0775\n",
            "Epoch 36: Training Loss = 0.0789\n",
            "Epoch 37: Training Loss = 0.0776\n",
            "Epoch 38: Training Loss = 0.0751\n",
            "Epoch 39: Training Loss = 0.0748\n",
            "Epoch 40: Training Loss = 0.0743\n",
            "Epoch 41: Training Loss = 0.0738\n",
            "Epoch 42: Training Loss = 0.0724\n",
            "Epoch 43: Training Loss = 0.0724\n",
            "Epoch 44: Training Loss = 0.0720\n",
            "Epoch 45: Training Loss = 0.0726\n",
            "Epoch 46: Training Loss = 0.0728\n",
            "Epoch 47: Training Loss = 0.0715\n",
            "Epoch 48: Training Loss = 0.0717\n",
            "Epoch 49: Training Loss = 0.0716\n",
            "Epoch 50: Training Loss = 0.0698\n",
            "Epoch 51: Training Loss = 0.0705\n",
            "Epoch 52: Training Loss = 0.0704\n",
            "Epoch 53: Training Loss = 0.0696\n",
            "Epoch 54: Training Loss = 0.0690\n",
            "Epoch 55: Training Loss = 0.0691\n",
            "Epoch 56: Training Loss = 0.0672\n",
            "Epoch 57: Training Loss = 0.0682\n",
            "Epoch 58: Training Loss = 0.0677\n",
            "Epoch 59: Training Loss = 0.0672\n",
            "Epoch 60: Training Loss = 0.0652\n",
            "Epoch 61: Training Loss = 0.0676\n",
            "Epoch 62: Training Loss = 0.0662\n",
            "Epoch 63: Training Loss = 0.0664\n",
            "Epoch 64: Training Loss = 0.0663\n",
            "Epoch 65: Training Loss = 0.0667\n",
            "Epoch 66: Training Loss = 0.0662\n",
            "Epoch 67: Training Loss = 0.0641\n",
            "Epoch 68: Training Loss = 0.0630\n",
            "Epoch 69: Training Loss = 0.0661\n",
            "Epoch 70: Training Loss = 0.0643\n",
            "Epoch 71: Training Loss = 0.0632\n",
            "Epoch 72: Training Loss = 0.0645\n",
            "Epoch 73: Training Loss = 0.0629\n",
            "Epoch 74: Training Loss = 0.0634\n",
            "Epoch 75: Training Loss = 0.0628\n",
            "Epoch 76: Training Loss = 0.0601\n",
            "Epoch 77: Training Loss = 0.0603\n",
            "Epoch 78: Training Loss = 0.0625\n",
            "Epoch 79: Training Loss = 0.0618\n",
            "Epoch 80: Training Loss = 0.0596\n",
            "Epoch 81: Training Loss = 0.0603\n",
            "Epoch 82: Training Loss = 0.0597\n",
            "Epoch 83: Training Loss = 0.0588\n",
            "Epoch 84: Training Loss = 0.0607\n",
            "Epoch 85: Training Loss = 0.0583\n",
            "Epoch 86: Training Loss = 0.0596\n",
            "Epoch 87: Training Loss = 0.0597\n",
            "Epoch 88: Training Loss = 0.0579\n",
            "Epoch 89: Training Loss = 0.0578\n",
            "Epoch 90: Training Loss = 0.0582\n",
            "Epoch 91: Training Loss = 0.0598\n",
            "Epoch 92: Training Loss = 0.0586\n",
            "Epoch 93: Training Loss = 0.0563\n",
            "Epoch 94: Training Loss = 0.0580\n",
            "Epoch 95: Training Loss = 0.0577\n",
            "Epoch 96: Training Loss = 0.0564\n",
            "Epoch 97: Training Loss = 0.0562\n",
            "Epoch 98: Training Loss = 0.0569\n",
            "Epoch 99: Training Loss = 0.0559\n",
            "Epoch 100: Training Loss = 0.0567\n"
          ],
          "name": "stdout"
        }
      ]
    },
    {
      "cell_type": "code",
      "metadata": {
        "id": "N5vwXfkxrdMf",
        "colab_type": "code",
        "colab": {}
      },
      "source": [
        "X_test = np.array(testdf.iloc[:,3:57])\n",
        "y_test = np.array(testdf.iloc[:,57]).reshape(-1)"
      ],
      "execution_count": null,
      "outputs": []
    },
    {
      "cell_type": "code",
      "metadata": {
        "id": "v1M8wVaiwn1R",
        "colab_type": "code",
        "colab": {}
      },
      "source": [
        "X_test = torch.tensor(X_test, device=\"cuda\").type(torch.float)\n",
        "y_test = torch.tensor(y_test, device=\"cuda\").type(torch.float)"
      ],
      "execution_count": null,
      "outputs": []
    },
    {
      "cell_type": "code",
      "metadata": {
        "id": "VRz3aY4cdzbE",
        "colab_type": "code",
        "colab": {}
      },
      "source": [
        "test_set = CustomDataset(X_test,\n",
        "                        y_test,\n",
        "                        transform=lambda X: ((X - X_mean)/X_std), \n",
        "                        target_transform=lambda y: ((y - y_mean)/y_std)\n",
        "                    )"
      ],
      "execution_count": null,
      "outputs": []
    },
    {
      "cell_type": "code",
      "metadata": {
        "id": "QxVSPIA9uP5v",
        "colab_type": "code",
        "colab": {}
      },
      "source": [
        "test_r2=[]\n",
        "test_losses=[]"
      ],
      "execution_count": null,
      "outputs": []
    },
    {
      "cell_type": "code",
      "metadata": {
        "id": "y3tYl53ecZlN",
        "colab_type": "code",
        "colab": {
          "base_uri": "https://localhost:8080/",
          "height": 34
        },
        "outputId": "7ecc82ed-d5e6-4967-a6da-c72897c4f196"
      },
      "source": [
        "test_loader = DataLoader(\n",
        "    dataset=test_set,\n",
        "    batch_size=batch_size, \n",
        "    shuffle=False)\n",
        "\n",
        "with torch.no_grad():\n",
        "    net.eval()\n",
        "    test_targets = []\n",
        "    test_predictions = []\n",
        "    total_loss = None\n",
        "    for (batch_X, batch_y) in test_loader: # for each training step\n",
        "        prediction = net(batch_X).squeeze(dim=1)     # input x and predict based on x\n",
        "        current_loss = loss_func(prediction, batch_y).sum()\n",
        "        if total_loss is None:\n",
        "            total_loss = current_loss\n",
        "        else:\n",
        "            total_loss += current_loss\n",
        "        test_targets += [batch_y]\n",
        "        test_predictions += [prediction]\n",
        "    test_targets = torch.cat(test_targets, dim=0)\n",
        "    test_predictions = torch.cat(test_predictions, dim=0)\n",
        "    test_r2.append(sklearn.metrics.r2_score((test_targets * y_std + y_mean).cpu().numpy(), (test_predictions * y_std + y_mean).cpu().numpy()))\n",
        "    \n",
        "    total_loss = total_loss / test_targets.shape[0]\n",
        "    test_losses.append(total_loss.item())\n",
        "    print(\"Epoch %d: Validation Loss = %.4f\" % (epoch + 1, total_loss.item()))"
      ],
      "execution_count": null,
      "outputs": [
        {
          "output_type": "stream",
          "text": [
            "Epoch 100: Validation Loss = 0.0858\n"
          ],
          "name": "stdout"
        }
      ]
    },
    {
      "cell_type": "code",
      "metadata": {
        "id": "BoA91qppyHVz",
        "colab_type": "code",
        "colab": {
          "base_uri": "https://localhost:8080/",
          "height": 34
        },
        "outputId": "dade3486-a1cd-4405-9ca2-2f5d5c947f6b"
      },
      "source": [
        "test_r2"
      ],
      "execution_count": null,
      "outputs": [
        {
          "output_type": "execute_result",
          "data": {
            "text/plain": [
              "[0.9477389847808259]"
            ]
          },
          "metadata": {
            "tags": []
          },
          "execution_count": 15
        }
      ]
    },
    {
      "cell_type": "code",
      "metadata": {
        "id": "xro-YwqY2tmy",
        "colab_type": "code",
        "colab": {
          "base_uri": "https://localhost:8080/",
          "height": 34
        },
        "outputId": "94b0d2e9-12a6-4c60-9039-ae911430bf41"
      },
      "source": [
        "train_r2[len(train_r2)-1]"
      ],
      "execution_count": null,
      "outputs": [
        {
          "output_type": "execute_result",
          "data": {
            "text/plain": [
              "0.9432714080726822"
            ]
          },
          "metadata": {
            "tags": []
          },
          "execution_count": 16
        }
      ]
    },
    {
      "cell_type": "code",
      "metadata": {
        "id": "cSQpp3myNqGY",
        "colab_type": "code",
        "colab": {
          "base_uri": "https://localhost:8080/",
          "height": 541
        },
        "outputId": "df151eb7-9d91-4358-bba1-ca715779fb84"
      },
      "source": [
        "plt.plot(train_r2, label=\"Training R2 Score\")\n",
        "plt.ylabel('R2 Score')\n",
        "plt.xlabel('Epochs')\n",
        "plt.legend()\n",
        "plt.show()\n",
        "\n",
        "plt.plot(train_losses, label=\"Training Loss\")\n",
        "plt.ylabel('Loss')\n",
        "plt.xlabel('Epochs')\n",
        "plt.legend()\n",
        "plt.show()"
      ],
      "execution_count": null,
      "outputs": [
        {
          "output_type": "display_data",
          "data": {
            "image/png": "[encoded data removed]",
            "text/plain": [
              "<Figure size 432x288 with 1 Axes>"
            ]
          },
          "metadata": {
            "tags": [],
            "needs_background": "light"
          }
        },
        {
          "output_type": "display_data",
          "data": {
            "image/png": "[encoded data removed]",
            "text/plain": [
              "<Figure size 432x288 with 1 Axes>"
            ]
          },
          "metadata": {
            "tags": [],
            "needs_background": "light"
          }
        }
      ]
    },
    {
      "cell_type": "code",
      "metadata": {
        "id": "e-vd8PA-N4Oi",
        "colab_type": "code",
        "colab": {
          "base_uri": "https://localhost:8080/",
          "height": 296
        },
        "outputId": "d455a0d7-fb16-421d-ce69-3c953d06b2cc"
      },
      "source": [
        "plt.plot((test_targets * y_std + y_mean).cpu().numpy(), (test_predictions * y_std + y_mean).cpu().numpy(),'bo')\n",
        "plt.plot([-3,13],[-3,13],'red')\n",
        "plt.ylabel('prediction')\n",
        "plt.xlabel('target')\n",
        "plt.xlim(-3, 15)\n",
        "plt.ylim(-3, 15)"
      ],
      "execution_count": null,
      "outputs": [
        {
          "output_type": "execute_result",
          "data": {
            "text/plain": [
              "(-3.0, 15.0)"
            ]
          },
          "metadata": {
            "tags": []
          },
          "execution_count": 18
        },
        {
          "output_type": "display_data",
          "data": {
            "image/png": "[encoded data removed]",
            "text/plain": [
              "<Figure size 432x288 with 1 Axes>"
            ]
          },
          "metadata": {
            "tags": [],
            "needs_background": "light"
          }
        }
      ]
    },
    {
      "cell_type": "code",
      "metadata": {
        "id": "CRIUE21_N5Rc",
        "colab_type": "code",
        "colab": {
          "base_uri": "https://localhost:8080/",
          "height": 296
        },
        "outputId": "45fc7610-adfc-405a-d850-60388ea4b8ad"
      },
      "source": [
        "plt.plot((train_targets * y_std + y_mean).cpu().numpy(), (train_predictions * y_std + y_mean).cpu().numpy(),'bo')\n",
        "plt.plot([-3,13],[-3,13],'red')\n",
        "plt.ylabel('prediction')\n",
        "plt.xlabel('target')\n",
        "plt.xlim(-3, 15)\n",
        "plt.ylim(-3, 15)"
      ],
      "execution_count": null,
      "outputs": [
        {
          "output_type": "execute_result",
          "data": {
            "text/plain": [
              "(-3.0, 15.0)"
            ]
          },
          "metadata": {
            "tags": []
          },
          "execution_count": 19
        },
        {
          "output_type": "display_data",
          "data": {
            "image/png": "[encoded data removed]",
            "text/plain": [
              "<Figure size 432x288 with 1 Axes>"
            ]
          },
          "metadata": {
            "tags": [],
            "needs_background": "light"
          }
        }
      ]
    },
    {
      "cell_type": "code",
      "metadata": {
        "id": "Ev0Gf2E1nb5c",
        "colab_type": "code",
        "colab": {
          "base_uri": "https://localhost:8080/",
          "height": 17
        },
        "outputId": "37657dcd-8a45-455c-c616-f4e6bbc6588c"
      },
      "source": [
        "diff = (((test_targets * y_std + y_mean).cpu().numpy()) - ((test_predictions * y_std + y_mean).cpu().numpy()))\n",
        "diff = abs(diff)\n",
        "outliers = list(np.array(np.where((abs(diff) - np.mean(diff))/np.std(diff) >2 )).reshape(-1))\n",
        "outlierdf = testdf.iloc[outliers,]\n",
        "outlierdf.to_excel('outlierdf2.xlsx')\n",
        "from google.colab import files\n",
        "files.download('outlierdf2.xlsx') "
      ],
      "execution_count": null,
      "outputs": [
        {
          "output_type": "display_data",
          "data": {
            "application/javascript": [
              "\n",
              "    async function download(id, filename, size) {\n",
              "      if (!google.colab.kernel.accessAllowed) {\n",
              "        return;\n",
              "      }\n",
              "      const div = document.createElement('div');\n",
              "      const label = document.createElement('label');\n",
              "      label.textContent = `Downloading \"${filename}\": `;\n",
              "      div.appendChild(label);\n",
              "      const progress = document.createElement('progress');\n",
              "      progress.max = size;\n",
              "      div.appendChild(progress);\n",
              "      document.body.appendChild(div);\n",
              "\n",
              "      const buffers = [];\n",
              "      let downloaded = 0;\n",
              "\n",
              "      const channel = await google.colab.kernel.comms.open(id);\n",
              "      // Send a message to notify the kernel that we're ready.\n",
              "      channel.send({})\n",
              "\n",
              "      for await (const message of channel.messages) {\n",
              "        // Send a message to notify the kernel that we're ready.\n",
              "        channel.send({})\n",
              "        if (message.buffers) {\n",
              "          for (const buffer of message.buffers) {\n",
              "            buffers.push(buffer);\n",
              "            downloaded += buffer.byteLength;\n",
              "            progress.value = downloaded;\n",
              "          }\n",
              "        }\n",
              "      }\n",
              "      const blob = new Blob(buffers, {type: 'application/binary'});\n",
              "      const a = document.createElement('a');\n",
              "      a.href = window.URL.createObjectURL(blob);\n",
              "      a.download = filename;\n",
              "      div.appendChild(a);\n",
              "      a.click();\n",
              "      div.remove();\n",
              "    }\n",
              "  "
            ],
            "text/plain": [
              "<IPython.core.display.Javascript object>"
            ]
          },
          "metadata": {
            "tags": []
          }
        },
        {
          "output_type": "display_data",
          "data": {
            "application/javascript": [
              "download(\"download_fecddb54-02cc-45bb-ac31-60ee8123a4ca\", \"outlierdf2.xlsx\", 103830)"
            ],
            "text/plain": [
              "<IPython.core.display.Javascript object>"
            ]
          },
          "metadata": {
            "tags": []
          }
        }
      ]
    },
    {
      "cell_type": "code",
      "metadata": {
        "id": "NFG9b-vcKlht",
        "colab_type": "code",
        "colab": {}
      },
      "source": [
        ""
      ],
      "execution_count": null,
      "outputs": []
    }
  ]
}